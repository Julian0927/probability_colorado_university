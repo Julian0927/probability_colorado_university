{
 "cells": [
  {
   "cell_type": "markdown",
   "metadata": {},
   "source": [
    "# Module 3 Peer Review Assignment"
   ]
  },
  {
   "cell_type": "code",
   "execution_count": null,
   "metadata": {},
   "outputs": [],
   "source": []
  },
  {
   "cell_type": "markdown",
   "metadata": {},
   "source": [
    "# Problem 1\n",
    "\n",
    "You work at a factory that manufactures light bulbs. You have determined that $5\\%$ of light bulbs that are produced are defective. For each of the scenarios below:\n",
    "\n",
    "1. Define an appropriate random variable and distribution.\n",
    "2. State the values that the random variable can take on.\n",
    "3. State any assumptions that you need to make.\n",
    "4. Find the probability that the random variable you defined takes on the value $X=4$."
   ]
  },
  {
   "cell_type": "markdown",
   "metadata": {},
   "source": [
    "**Part a)**\n",
    "\n",
    "Out of 30 lightbulbs, $k$ are defective."
   ]
  },
  {
   "cell_type": "markdown",
   "metadata": {},
   "source": [
    "YOUR ANSWER HERE"
   ]
  },
  {
   "cell_type": "markdown",
   "metadata": {},
   "source": [
    "**Part b)**\n",
    "\n",
    "You test each lightbulb as it comes of the line. The $k^{th}$ light bulb is the first defective light bulb you find."
   ]
  },
  {
   "cell_type": "markdown",
   "metadata": {},
   "source": [
    "YOUR ANSWER HERE"
   ]
  },
  {
   "cell_type": "markdown",
   "metadata": {},
   "source": [
    "**Part c)**\n",
    "\n",
    "You find your second defective light bulb after observing $k$ light bulbs in all."
   ]
  },
  {
   "cell_type": "markdown",
   "metadata": {},
   "source": [
    "YOUR ANSWER HERE"
   ]
  },
  {
   "cell_type": "markdown",
   "metadata": {},
   "source": [
    "# Problem 2\n",
    "\n",
    "Consider a loaded six-sided die that is twice as likely to roll an even number as an odd number. Let $X$ be random variable for value that is rolled from the die."
   ]
  },
  {
   "cell_type": "markdown",
   "metadata": {},
   "source": [
    "**Part a)**\n",
    "\n",
    "What is the Probability Mass Function for $X$. Write this out as a table."
   ]
  },
  {
   "cell_type": "markdown",
   "metadata": {},
   "source": [
    "YOUR ANSWER HERE"
   ]
  },
  {
   "cell_type": "markdown",
   "metadata": {},
   "source": [
    "**Part b)**\n",
    "\n",
    "What is the Cumulative Distribution Function for $X$?"
   ]
  },
  {
   "cell_type": "markdown",
   "metadata": {},
   "source": [
    "YOUR ANSWER HERE"
   ]
  },
  {
   "cell_type": "markdown",
   "metadata": {},
   "source": [
    "**Part c)** \n",
    "\n",
    "What is $E[X]$?"
   ]
  },
  {
   "cell_type": "markdown",
   "metadata": {},
   "source": [
    "YOUR ANSWER HERE"
   ]
  },
  {
   "cell_type": "markdown",
   "metadata": {},
   "source": [
    "# Problem 3\n",
    "\n",
    "How would we simulate variables from these distributions in R? It'll turn out that the method is fairly similar across all these distributions so, for simplicity, let's just say we want to simulate $X \\sim Bin(n,p)$. Take a look at the official documentation for this function [here](https://www.rdocumentation.org/packages/stats/versions/3.3/topics/Binomial). Not extremely clear, is it? Let's go through it one step at a time."
   ]
  },
  {
   "cell_type": "markdown",
   "metadata": {},
   "source": [
    "**Part a)** \n",
    "\n",
    "What if we want a random variable from this distribution? That is, we know some underlying distribution and we want to simulate many results from that distribution. Then we would use the \"random generation\" function `rbinom()`.\n",
    "\n",
    "Play around with this function, with different `size` and `prob` parameters to get a feel for how it works. Finally, generate $30$ results from a $Bin(10, 0.3)$ distribution and plot a histogram of the results."
   ]
  },
  {
   "cell_type": "code",
   "execution_count": 11,
   "metadata": {},
   "outputs": [
    {
     "data": {
      "text/html": [
       "<style>\n",
       ".list-inline {list-style: none; margin:0; padding: 0}\n",
       ".list-inline>li {display: inline-block}\n",
       ".list-inline>li:not(:last-child)::after {content: \"\\00b7\"; padding: 0 .5ex}\n",
       "</style>\n",
       "<ol class=list-inline><li>4</li><li>4</li><li>10</li><li>8</li><li>11</li><li>4</li><li>7</li><li>7</li><li>9</li><li>6</li><li>7</li><li>6</li><li>4</li><li>8</li><li>5</li><li>7</li><li>4</li><li>4</li><li>6</li><li>8</li><li>4</li><li>6</li><li>8</li><li>8</li><li>7</li><li>5</li><li>7</li><li>6</li><li>7</li><li>7</li><li>8</li><li>7</li><li>5</li><li>6</li><li>6</li><li>6</li><li>8</li><li>5</li><li>6</li><li>11</li><li>6</li><li>6</li><li>8</li><li>9</li><li>3</li><li>5</li><li>6</li><li>6</li><li>7</li><li>7</li><li>10</li><li>4</li><li>6</li><li>5</li><li>7</li><li>6</li><li>7</li><li>6</li><li>4</li><li>9</li><li>4</li><li>9</li><li>7</li><li>5</li><li>10</li><li>9</li><li>8</li><li>4</li><li>7</li><li>5</li><li>8</li><li>5</li><li>4</li><li>6</li><li>5</li><li>7</li><li>6</li><li>7</li><li>5</li><li>4</li><li>8</li><li>7</li><li>6</li><li>4</li><li>8</li><li>5</li><li>0</li><li>4</li><li>5</li><li>9</li><li>6</li><li>4</li><li>7</li><li>6</li><li>8</li><li>8</li><li>4</li><li>7</li><li>4</li><li>5</li></ol>\n"
      ],
      "text/latex": [
       "\\begin{enumerate*}\n",
       "\\item 4\n",
       "\\item 4\n",
       "\\item 10\n",
       "\\item 8\n",
       "\\item 11\n",
       "\\item 4\n",
       "\\item 7\n",
       "\\item 7\n",
       "\\item 9\n",
       "\\item 6\n",
       "\\item 7\n",
       "\\item 6\n",
       "\\item 4\n",
       "\\item 8\n",
       "\\item 5\n",
       "\\item 7\n",
       "\\item 4\n",
       "\\item 4\n",
       "\\item 6\n",
       "\\item 8\n",
       "\\item 4\n",
       "\\item 6\n",
       "\\item 8\n",
       "\\item 8\n",
       "\\item 7\n",
       "\\item 5\n",
       "\\item 7\n",
       "\\item 6\n",
       "\\item 7\n",
       "\\item 7\n",
       "\\item 8\n",
       "\\item 7\n",
       "\\item 5\n",
       "\\item 6\n",
       "\\item 6\n",
       "\\item 6\n",
       "\\item 8\n",
       "\\item 5\n",
       "\\item 6\n",
       "\\item 11\n",
       "\\item 6\n",
       "\\item 6\n",
       "\\item 8\n",
       "\\item 9\n",
       "\\item 3\n",
       "\\item 5\n",
       "\\item 6\n",
       "\\item 6\n",
       "\\item 7\n",
       "\\item 7\n",
       "\\item 10\n",
       "\\item 4\n",
       "\\item 6\n",
       "\\item 5\n",
       "\\item 7\n",
       "\\item 6\n",
       "\\item 7\n",
       "\\item 6\n",
       "\\item 4\n",
       "\\item 9\n",
       "\\item 4\n",
       "\\item 9\n",
       "\\item 7\n",
       "\\item 5\n",
       "\\item 10\n",
       "\\item 9\n",
       "\\item 8\n",
       "\\item 4\n",
       "\\item 7\n",
       "\\item 5\n",
       "\\item 8\n",
       "\\item 5\n",
       "\\item 4\n",
       "\\item 6\n",
       "\\item 5\n",
       "\\item 7\n",
       "\\item 6\n",
       "\\item 7\n",
       "\\item 5\n",
       "\\item 4\n",
       "\\item 8\n",
       "\\item 7\n",
       "\\item 6\n",
       "\\item 4\n",
       "\\item 8\n",
       "\\item 5\n",
       "\\item 0\n",
       "\\item 4\n",
       "\\item 5\n",
       "\\item 9\n",
       "\\item 6\n",
       "\\item 4\n",
       "\\item 7\n",
       "\\item 6\n",
       "\\item 8\n",
       "\\item 8\n",
       "\\item 4\n",
       "\\item 7\n",
       "\\item 4\n",
       "\\item 5\n",
       "\\end{enumerate*}\n"
      ],
      "text/markdown": [
       "1. 4\n",
       "2. 4\n",
       "3. 10\n",
       "4. 8\n",
       "5. 11\n",
       "6. 4\n",
       "7. 7\n",
       "8. 7\n",
       "9. 9\n",
       "10. 6\n",
       "11. 7\n",
       "12. 6\n",
       "13. 4\n",
       "14. 8\n",
       "15. 5\n",
       "16. 7\n",
       "17. 4\n",
       "18. 4\n",
       "19. 6\n",
       "20. 8\n",
       "21. 4\n",
       "22. 6\n",
       "23. 8\n",
       "24. 8\n",
       "25. 7\n",
       "26. 5\n",
       "27. 7\n",
       "28. 6\n",
       "29. 7\n",
       "30. 7\n",
       "31. 8\n",
       "32. 7\n",
       "33. 5\n",
       "34. 6\n",
       "35. 6\n",
       "36. 6\n",
       "37. 8\n",
       "38. 5\n",
       "39. 6\n",
       "40. 11\n",
       "41. 6\n",
       "42. 6\n",
       "43. 8\n",
       "44. 9\n",
       "45. 3\n",
       "46. 5\n",
       "47. 6\n",
       "48. 6\n",
       "49. 7\n",
       "50. 7\n",
       "51. 10\n",
       "52. 4\n",
       "53. 6\n",
       "54. 5\n",
       "55. 7\n",
       "56. 6\n",
       "57. 7\n",
       "58. 6\n",
       "59. 4\n",
       "60. 9\n",
       "61. 4\n",
       "62. 9\n",
       "63. 7\n",
       "64. 5\n",
       "65. 10\n",
       "66. 9\n",
       "67. 8\n",
       "68. 4\n",
       "69. 7\n",
       "70. 5\n",
       "71. 8\n",
       "72. 5\n",
       "73. 4\n",
       "74. 6\n",
       "75. 5\n",
       "76. 7\n",
       "77. 6\n",
       "78. 7\n",
       "79. 5\n",
       "80. 4\n",
       "81. 8\n",
       "82. 7\n",
       "83. 6\n",
       "84. 4\n",
       "85. 8\n",
       "86. 5\n",
       "87. 0\n",
       "88. 4\n",
       "89. 5\n",
       "90. 9\n",
       "91. 6\n",
       "92. 4\n",
       "93. 7\n",
       "94. 6\n",
       "95. 8\n",
       "96. 8\n",
       "97. 4\n",
       "98. 7\n",
       "99. 4\n",
       "100. 5\n",
       "\n",
       "\n"
      ],
      "text/plain": [
       "  [1]  4  4 10  8 11  4  7  7  9  6  7  6  4  8  5  7  4  4  6  8  4  6  8  8  7\n",
       " [26]  5  7  6  7  7  8  7  5  6  6  6  8  5  6 11  6  6  8  9  3  5  6  6  7  7\n",
       " [51] 10  4  6  5  7  6  7  6  4  9  4  9  7  5 10  9  8  4  7  5  8  5  4  6  5\n",
       " [76]  7  6  7  5  4  8  7  6  4  8  5  0  4  5  9  6  4  7  6  8  8  4  7  4  5"
      ]
     },
     "metadata": {},
     "output_type": "display_data"
    }
   ],
   "source": [
    "# YOUR CODE HERE\n",
    "rbinom(n=100, size=20, prob=0.3)"
   ]
  },
  {
   "cell_type": "markdown",
   "metadata": {},
   "source": [
    "**Part b)**\n",
    "\n",
    "What if we have some value $k$ and we want to know what's probability of generating $k$? That is, we're solving the Probability Mass Function $P(X=k)$. Then we would use the \"density\" function `dbinom()`.\n",
    "\n",
    "Let $X \\sim Bin(15, 0.4)$. By hand, solve $P(X=4)$. Then use the `dbinom()` function to confirm your result."
   ]
  },
  {
   "cell_type": "markdown",
   "metadata": {},
   "source": [
    "YOUR ANSWER HERE"
   ]
  },
  {
   "cell_type": "code",
   "execution_count": 20,
   "metadata": {},
   "outputs": [
    {
     "data": {
      "text/html": [
       "0.12677580324864"
      ],
      "text/latex": [
       "0.12677580324864"
      ],
      "text/markdown": [
       "0.12677580324864"
      ],
      "text/plain": [
       "[1] 0.1267758"
      ]
     },
     "metadata": {},
     "output_type": "display_data"
    }
   ],
   "source": [
    "# YOUR CODE HERE\n",
    "dbinom(x = 4, size = 15, prob = 0.4)"
   ]
  },
  {
   "cell_type": "markdown",
   "metadata": {},
   "source": [
    "**Part c)**\n",
    "\n",
    "What if we wanted to solve for some value of the Cumulative Density Function? That is, we know $k$ and want to find $P(X \\le k) = p$. Then we would use the \"distribution function\" `pbinom()`.\n",
    "\n",
    "Let $X \\sim Bin(15, 0.4)$. By hand, solve $P(X \\le 4)$. Then use the `pbinom()` function to confirm your result."
   ]
  },
  {
   "cell_type": "markdown",
   "metadata": {},
   "source": [
    "YOUR ANSWER HERE"
   ]
  },
  {
   "cell_type": "code",
   "execution_count": 19,
   "metadata": {},
   "outputs": [
    {
     "data": {
      "text/html": [
       "0.217277705650176"
      ],
      "text/latex": [
       "0.217277705650176"
      ],
      "text/markdown": [
       "0.217277705650176"
      ],
      "text/plain": [
       "[1] 0.2172777"
      ]
     },
     "metadata": {},
     "output_type": "display_data"
    }
   ],
   "source": [
    "# YOUR CODE HERE\n",
    "pbinom(4, size = 15, prob = 0.4)"
   ]
  },
  {
   "cell_type": "markdown",
   "metadata": {},
   "source": [
    "**Part d)**\n",
    "\n",
    "Finally, we have the \"quantile\" function `qbinom()`. This function is the reverse of the `pbinom()` function, in that it takes a probability $p$ as an argument and returns the value $k$ of the CDF that results in that much probability.\n",
    "\n",
    "Use the `qbinom()` function to confirm your results from **Part c**. That is, plug in the probablity you got from **Part c** and see if you get the same $k$."
   ]
  },
  {
   "cell_type": "code",
   "execution_count": 21,
   "metadata": {},
   "outputs": [
    {
     "data": {
      "text/html": [
       "4"
      ],
      "text/latex": [
       "4"
      ],
      "text/markdown": [
       "4"
      ],
      "text/plain": [
       "[1] 4"
      ]
     },
     "metadata": {},
     "output_type": "display_data"
    }
   ],
   "source": [
    "# YOUR CODE HERE\n",
    "qbinom(p = 0.217277705650176, size = 15, prob = 0.4)"
   ]
  },
  {
   "cell_type": "markdown",
   "metadata": {},
   "source": [
    "Nearly every distribution has these four functions, and they will be very useful for our future calculations and simulations."
   ]
  }
 ],
 "metadata": {
  "kernelspec": {
   "display_name": "R",
   "language": "R",
   "name": "ir"
  },
  "language_info": {
   "codemirror_mode": "r",
   "file_extension": ".r",
   "mimetype": "text/x-r-source",
   "name": "R",
   "pygments_lexer": "r",
   "version": "3.6.3"
  }
 },
 "nbformat": 4,
 "nbformat_minor": 4
}
